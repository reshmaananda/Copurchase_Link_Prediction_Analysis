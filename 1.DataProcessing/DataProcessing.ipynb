{
 "cells": [
  {
   "cell_type": "markdown",
   "id": "151bd5ed",
   "metadata": {},
   "source": [
    "### Importing required libraries"
   ]
  },
  {
   "cell_type": "code",
   "execution_count": 47,
   "id": "018cc3f2",
   "metadata": {},
   "outputs": [],
   "source": [
    "import pandas as pd\n",
    "import numpy as np\n",
    "import torch\n",
    "from tqdm.auto import tqdm\n",
    "from torch_geometric.data import Data\n",
    "from torch_geometric import utils\n",
    "from pyvis.network import Network\n",
    "import re\n"
   ]
  },
  {
   "cell_type": "markdown",
   "id": "be89d25f",
   "metadata": {},
   "source": [
    "### Convert raw data to graph"
   ]
  },
  {
   "cell_type": "code",
   "execution_count": 48,
   "id": "02f697c0",
   "metadata": {
    "scrolled": true
   },
   "outputs": [],
   "source": [
    "\n",
    "def process_edges(edges):\n",
    "    edge_index = []\n",
    "    in_degrees = np.zeros((262111, 1))\n",
    "\n",
    "    for line in edges:\n",
    "        if line.startswith('#'):\n",
    "            continue\n",
    "        start, end = map(int, line.strip().split())\n",
    "        in_degrees[end][0] += 1\n",
    "        edge_index.append([start, end])\n",
    "\n",
    "    return edge_index, in_degrees\n",
    "\n",
    "def create_graph(edges):\n",
    "    edge_index, in_degrees = process_edges(edges)\n",
    "    edge_index = torch.tensor(edge_index).t().contiguous()\n",
    "    graph = Data(x=torch.tensor(in_degrees), edge_index=edge_index)\n",
    "    return graph\n",
    "\n",
    "#Import the node to node raw data taken from SNAP\n",
    "with open('../AmazonNodeData.txt', 'r') as f:\n",
    "    edges = f.readlines()\n",
    "\n",
    "graph = create_graph(edges)\n",
    "torch.save(graph, 'AmazonNodeGraph.pt')"
   ]
  },
  {
   "cell_type": "code",
   "execution_count": 49,
   "id": "0d94d123",
   "metadata": {},
   "outputs": [
    {
     "name": "stdout",
     "output_type": "stream",
     "text": [
      "The Number of nodes in the graph is 262111\n",
      "The Number of edges in the graph is 1234877\n"
     ]
    }
   ],
   "source": [
    "print(f\"The Number of nodes in the graph is {graph.num_nodes}\")\n",
    "print(f\"The Number of edges in the graph is {graph.num_edges}\")"
   ]
  },
  {
   "cell_type": "markdown",
   "id": "b0682eda",
   "metadata": {},
   "source": [
    "### Extract the metadata\n"
   ]
  },
  {
   "cell_type": "code",
   "execution_count": 50,
   "id": "4fb94974",
   "metadata": {},
   "outputs": [
    {
     "name": "stdout",
     "output_type": "stream",
     "text": [
      "{'Id': '1', 'ASIN': '0827229534', 'title': 'Patterns of Preaching: A Sermon Sampler', 'group': 'Book', 'salesrank': '396585', 'similar': '5  0804215715  156101074X  0687023955  0687074231  082721619X', 'categories': '2', 'reviews': 'total: 2  downloaded: 2  avg rating: 5', '2000-7-28  cutomer': 'A2JW67OY8U6HHK  rating: 5  votes:  10  helpful:   9', '2003-12-14  cutomer': 'A2VE83MZF98ITY  rating: 5  votes:   6  helpful:   5'}\n"
     ]
    }
   ],
   "source": [
    "def parse_metadata(file_path):\n",
    "    metadata = {}\n",
    "\n",
    "    with open(file_path, 'r', encoding=\"utf8\") as file:\n",
    "        # Skip the first two lines\n",
    "        for _ in range(2):\n",
    "            next(file)\n",
    "\n",
    "        product_data = {}\n",
    "        for line in file:\n",
    "            line = line.strip()\n",
    "            if line:\n",
    "                try:\n",
    "                    key, value = map(str.strip, line.split(':', 1))\n",
    "                    product_data[key] = value\n",
    "                except ValueError:\n",
    "                    continue  # Skip lines that cannot be split into key-value pairs\n",
    "            else:\n",
    "                if product_data:\n",
    "                    product_id = product_data.get('Id')\n",
    "                    if product_id:\n",
    "                        metadata[product_id] = product_data.copy()  # Save a copy to avoid modifying the same dict\n",
    "                    product_data.clear()  # Clear the dictionary for the next product\n",
    "\n",
    "    return metadata\n",
    "\n",
    "\n",
    "# Example usage\n",
    "metadata = parse_metadata('../amazon-meta.txt')\n",
    "\n",
    "product_1_metadata = metadata.get('1')\n",
    "\n",
    "if product_1_metadata:\n",
    "    print(product_1_metadata)\n",
    "else:\n",
    "    print(\"Product with ID '1' not found.\")"
   ]
  },
  {
   "cell_type": "code",
   "execution_count": 51,
   "id": "c6001703",
   "metadata": {},
   "outputs": [
    {
     "name": "stdout",
     "output_type": "stream",
     "text": [
      "{'Id': '676', 'ASIN': '1565113306', 'title': 'Fight Club', 'group': 'Book', 'salesrank': '359382', 'similar': '5  0385498721  0385720920  0393319296  0385722192  0385509472', 'categories': '5', 'reviews': 'total: 551  downloaded: 550  avg rating: 4.5', '1998-2-25  cutomer': 'ATVPDKIKX0DER  rating: 5  votes:   1  helpful:   0', '1998-6-18  cutomer': 'ATVPDKIKX0DER  rating: 5  votes:   3  helpful:   1', '1998-6-29  cutomer': 'AKZGJL6DVTYKM  rating: 3  votes:   2  helpful:   2', '1998-7-28  cutomer': 'ATVPDKIKX0DER  rating: 5  votes:   1  helpful:   0', '1998-8-14  cutomer': 'ATVPDKIKX0DER  rating: 5  votes:   2  helpful:   1', '1999-2-2  cutomer': 'ATVPDKIKX0DER  rating: 5  votes:   2  helpful:   1', '1999-2-17  cutomer': 'ATVPDKIKX0DER  rating: 5  votes:   2  helpful:   0', '1999-2-23  cutomer': 'ATVPDKIKX0DER  rating: 3  votes:   3  helpful:   2', '1999-2-25  cutomer': 'A2E942BYMDZWNE  rating: 5  votes:   1  helpful:   0', '1999-3-15  cutomer': 'A3Q39DYUT1PON8  rating: 5  votes:   1  helpful:   0', '1999-3-22  cutomer': 'AJTJTWKXRYYMM  rating: 5  votes:   1  helpful:   0', '1999-3-29  cutomer': 'A20JNBIMQ6Y7ZS  rating: 3  votes:   1  helpful:   1', '1999-4-4  cutomer': 'ATVPDKIKX0DER  rating: 5  votes:   2  helpful:   0', '1999-4-19  cutomer': 'ATVPDKIKX0DER  rating: 5  votes:   1  helpful:   0', '1999-6-1  cutomer': 'A2K243U2T34TAS  rating: 5  votes:   1  helpful:   0', '1999-6-6  cutomer': 'ALB750AGQG4Q0  rating: 5  votes:   2  helpful:   1', '1999-7-6  cutomer': 'ATVPDKIKX0DER  rating: 5  votes:   1  helpful:   0', '1999-7-18  cutomer': 'A1E9RDU1FL33L3  rating: 5  votes:   1  helpful:   0', '1999-8-9  cutomer': 'ATVPDKIKX0DER  rating: 3  votes:   1  helpful:   0', '1999-8-20  cutomer': 'A7DYTPD2PIVJ5  rating: 1  votes:   8  helpful:   2', '1999-9-1  cutomer': 'A33MCOU48TODA6  rating: 5  votes:   1  helpful:   0', '1999-9-3  cutomer': 'ACJRIRW7ZKBX6  rating: 5  votes:   2  helpful:   1', '1999-9-7  cutomer': 'ATVPDKIKX0DER  rating: 2  votes:   5  helpful:   2', '1999-9-11  cutomer': 'ATVPDKIKX0DER  rating: 5  votes:   1  helpful:   0', '1999-9-14  cutomer': 'ATVPDKIKX0DER  rating: 5  votes:   1  helpful:   0', '1999-9-15  cutomer': 'A2EOU3XS84V4RA  rating: 5  votes:   1  helpful:   0', '1999-9-21  cutomer': 'AZ9696MAJVGAA  rating: 4  votes:   1  helpful:   0', '1999-9-27  cutomer': 'A3RUTSTH1KJ49F  rating: 4  votes:   1  helpful:   0', '1999-10-6  cutomer': 'ATVPDKIKX0DER  rating: 5  votes:   1  helpful:   0', '1999-10-8  cutomer': 'ATVPDKIKX0DER  rating: 5  votes:   1  helpful:   0', '1999-10-9  cutomer': 'ATVPDKIKX0DER  rating: 3  votes:   0  helpful:   0', '1999-10-10  cutomer': 'A2GZXV7WVG70KB  rating: 4  votes:   1  helpful:   0', '1999-10-12  cutomer': 'ATVPDKIKX0DER  rating: 5  votes:   1  helpful:   0', '1999-10-14  cutomer': 'ATVPDKIKX0DER  rating: 5  votes:   1  helpful:   0', '1999-10-15  cutomer': 'ATVPDKIKX0DER  rating: 5  votes:   3  helpful:   1', '1999-10-16  cutomer': 'ATVPDKIKX0DER  rating: 5  votes:   2  helpful:   0', '1999-10-17  cutomer': 'ATVPDKIKX0DER  rating: 3  votes:   0  helpful:   0', '1999-10-18  cutomer': 'ATVPDKIKX0DER  rating: 5  votes:   1  helpful:   0', '1999-10-19  cutomer': 'ATVPDKIKX0DER  rating: 5  votes:   1  helpful:   0', '1999-10-20  cutomer': 'ATVPDKIKX0DER  rating: 4  votes:   1  helpful:   0', '1999-10-21  cutomer': 'ATVPDKIKX0DER  rating: 4  votes:   1  helpful:   0', '1999-10-22  cutomer': 'ATVPDKIKX0DER  rating: 1  votes:  21  helpful:   6', '1999-10-23  cutomer': 'AJLAE5CI805UN  rating: 4  votes:   1  helpful:   0', '1999-10-24  cutomer': 'ATVPDKIKX0DER  rating: 5  votes:   1  helpful:   0', '1999-10-25  cutomer': 'ATVPDKIKX0DER  rating: 4  votes:   3  helpful:   1', '1999-10-26  cutomer': 'ATVPDKIKX0DER  rating: 5  votes:   2  helpful:   1', '1999-10-27  cutomer': 'ATVPDKIKX0DER  rating: 3  votes:   1  helpful:   0', '1999-10-28  cutomer': 'AITC1T56CIQD1  rating: 5  votes:   2  helpful:   1', '1999-10-29  cutomer': 'ATVPDKIKX0DER  rating: 5  votes:  19  helpful:  16', '1999-10-30  cutomer': 'ATVPDKIKX0DER  rating: 2  votes:  10  helpful:   3', '1999-10-31  cutomer': 'A8XT4N661IW2P  rating: 5  votes:   1  helpful:   0', '1999-11-1  cutomer': 'A1EHOROKZFZQNQ  rating: 3  votes:   6  helpful:   1', '1999-11-2  cutomer': 'AWV0FCODA249  rating: 4  votes:   2  helpful:   1', '1999-11-4  cutomer': 'ATVPDKIKX0DER  rating: 4  votes:   9  helpful:   4', '1999-11-20  cutomer': 'A2OLH5T7600AH8  rating: 2  votes:   2  helpful:   2', '1999-11-23  cutomer': 'A20N8VHHZ5EOYB  rating: 5  votes:  19  helpful:   6', '1999-11-24  cutomer': 'AOSHMZI8HJCMF  rating: 5  votes:   7  helpful:   6', '1999-11-28  cutomer': 'ATVPDKIKX0DER  rating: 5  votes:   9  helpful:   2', '1999-12-3  cutomer': 'A33OESCADFH3AU  rating: 3  votes:  12  helpful:   6', '1999-12-10  cutomer': 'AMBCBBTMRW79R  rating: 5  votes:   4  helpful:   2', '1999-12-16  cutomer': 'AZSXK56FWZ7P  rating: 5  votes:  10  helpful:   6', '1999-12-25  cutomer': 'A25O025VVK3Y8N  rating: 5  votes:   8  helpful:   6', '1999-12-26  cutomer': 'A3CB0BOSSN458W  rating: 5  votes:   4  helpful:   0', '1999-12-29  cutomer': 'A3SY5867APLZSU  rating: 5  votes:   2  helpful:   0', '1999-12-31  cutomer': 'A1SRTR74Q5ALNM  rating: 5  votes:   2  helpful:   1', '2000-1-3  cutomer': 'A2JDU9XELVBF84  rating: 1  votes:  38  helpful:   8', '2000-1-10  cutomer': 'ATVPDKIKX0DER  rating: 5  votes:   1  helpful:   0', '2000-1-13  cutomer': 'A26G4A6RTYDBIX  rating: 3  votes:   4  helpful:   0', '2000-1-16  cutomer': 'AVGK62WQDB2C  rating: 5  votes:   3  helpful:   2', '2000-1-19  cutomer': 'A9M76X6X8O660  rating: 4  votes:   5  helpful:   3', '2000-1-22  cutomer': 'A15U1AYT40120V  rating: 5  votes:   4  helpful:   1', '2000-1-23  cutomer': 'A3BXPW5YIR4A52  rating: 5  votes:  10  helpful:   8', '2000-1-28  cutomer': 'AXKCU8POIDXLJ  rating: 5  votes:   3  helpful:   1', '2000-1-30  cutomer': 'A1ZOZCIU729G7H  rating: 3  votes:   1  helpful:   0', '2000-1-31  cutomer': 'A129SLOJY2QYWI  rating: 5  votes:   3  helpful:   1', '2000-2-2  cutomer': 'AWYSZ846AC2BA  rating: 5  votes:   1  helpful:   0', '2000-2-4  cutomer': 'A3DSFGCB824EQ  rating: 5  votes:   6  helpful:   5', '2000-2-9  cutomer': 'AETRWXDG7M35O  rating: 5  votes:   2  helpful:   1', '2000-2-10  cutomer': 'A2FYO2AKVWCVL  rating: 5  votes:   1  helpful:   0', '2000-2-14  cutomer': 'A1Q9L9IYMBSN2M  rating: 5  votes:   1  helpful:   0', '2000-2-20  cutomer': 'A1BMVJB32TBD8A  rating: 5  votes:   4  helpful:   2', '2000-2-23  cutomer': 'AQHDZFHSUJCG5  rating: 5  votes:  81  helpful:  48', '2000-2-28  cutomer': 'ANKQCUGQLXDYV  rating: 5  votes:   4  helpful:   1', '2000-3-1  cutomer': 'AYTKL67SYJ5LT  rating: 5  votes:   6  helpful:   3', '2000-3-17  cutomer': 'A19W18394GAZ1R  rating: 5  votes:   4  helpful:   2', '2000-3-18  cutomer': 'A21760SW75W5F3  rating: 5  votes:   1  helpful:   0', '2000-3-22  cutomer': 'A3UFWO4S8DD9QN  rating: 3  votes:   6  helpful:   2', '2000-3-25  cutomer': 'A1JE0HH9V4B4NF  rating: 5  votes:   2  helpful:   1', '2000-3-27  cutomer': 'ADGJUOD268P8R  rating: 3  votes:   2  helpful:   1', '2000-3-28  cutomer': 'A1Q1TS537301WH  rating: 5  votes:   1  helpful:   0', '2000-3-30  cutomer': 'A39FFGJTV99CR8  rating: 5  votes:   3  helpful:   1', '2000-4-1  cutomer': 'APVCO38O24B4Z  rating: 5  votes:   9  helpful:   6', '2000-4-4  cutomer': 'A2CLDPQX94SN01  rating: 3  votes:   4  helpful:   2', '2000-4-6  cutomer': 'A3E5J37BRKBUTB  rating: 4  votes:   1  helpful:   0', '2000-4-8  cutomer': 'ALQ5JD7GDVXZW  rating: 5  votes:   9  helpful:   1', '2000-4-10  cutomer': 'AUC8N17TKL929  rating: 5  votes:   3  helpful:   2', '2000-4-16  cutomer': 'AJ6WMV0ZZA7UP  rating: 5  votes:   2  helpful:   1', '2000-4-17  cutomer': 'A3FOMRD41K1JCM  rating: 2  votes:  12  helpful:   4', '2000-4-19  cutomer': 'A84P2QF6L57YX  rating: 3  votes:   5  helpful:   4', '2000-4-25  cutomer': 'AVJQ4MYFAY9F5  rating: 5  votes:   1  helpful:   0', '2000-4-27  cutomer': 'AX2KWNBPP60TX  rating: 4  votes:   2  helpful:   1', '2000-5-1  cutomer': 'A3A3PTSJWCXZJV  rating: 5  votes:   2  helpful:   0', '2000-5-2  cutomer': 'A2JQWN0MFQNODC  rating: 5  votes:   7  helpful:   5', '2000-5-3  cutomer': 'ATVPDKIKX0DER  rating: 4  votes:   0  helpful:   0', '2000-5-6  cutomer': 'A3PMHNZOH1PKT2  rating: 5  votes:   3  helpful:   1', '2000-5-11  cutomer': 'A2DPJ13QH6XVSI  rating: 3  votes:   7  helpful:   2', '2000-5-14  cutomer': 'AGAQ70OEF3U10  rating: 5  votes:   3  helpful:   0', '2000-5-16  cutomer': 'A1VV4L8TO3QYOV  rating: 5  votes:   3  helpful:   2', '2000-5-17  cutomer': 'A3VGFJD2GCL1QB  rating: 5  votes:   1  helpful:   0', '2000-5-18  cutomer': 'A15K6TA3OUD7HL  rating: 5  votes:   3  helpful:   1', '2000-5-21  cutomer': 'ASAR163EIEXIY  rating: 5  votes:   4  helpful:   2', '2000-5-22  cutomer': 'A12AG1OXXG1ZNO  rating: 5  votes:  12  helpful:  10', '2000-5-27  cutomer': 'A1MF1WLW7JGB8Z  rating: 4  votes:   2  helpful:   1', '2000-5-28  cutomer': 'A3DKB9QZUJYBE3  rating: 4  votes:  21  helpful:  20', '2000-5-29  cutomer': 'A12S8IU1UMYQK4  rating: 5  votes:  14  helpful:   3', '2000-6-2  cutomer': 'A1WRU5STL8PHRS  rating: 5  votes:   4  helpful:   1', '2000-6-9  cutomer': 'AMFB6XWE7GGIL  rating: 5  votes:   7  helpful:   0', '2000-6-10  cutomer': 'A2Q001YAFWFOHR  rating: 5  votes:   1  helpful:   0', '2000-6-11  cutomer': 'A2YJ4IF2FGOJS0  rating: 4  votes:   5  helpful:   1', '2000-6-14  cutomer': 'A4HQNDJA25K4R  rating: 5  votes:   3  helpful:   1', '2000-6-15  cutomer': 'A37YY9BZJ4RMZQ  rating: 4  votes:   3  helpful:   2', '2000-6-17  cutomer': 'A3AL0KO224DSBU  rating: 4  votes:   2  helpful:   0', '2000-6-18  cutomer': 'ATVPDKIKX0DER  rating: 5  votes:   2  helpful:   0', '2000-6-19  cutomer': 'A3BE27OU6MYJZ5  rating: 3  votes:  11  helpful:   5', '2000-6-20  cutomer': 'A38RS0VW0TAV6H  rating: 5  votes:   4  helpful:   2', '2000-6-25  cutomer': 'A3OJLT8GUB4C7S  rating: 5  votes:   1  helpful:   0', '2000-6-26  cutomer': 'ACGDHUXBA3IUY  rating: 5  votes:   2  helpful:   0', '2000-6-29  cutomer': 'A3D6KZT0QG6UKB  rating: 5  votes:   5  helpful:   1', '2000-7-3  cutomer': 'A1GKEGKYSI7DQ2  rating: 3  votes:   7  helpful:   7', '2000-7-5  cutomer': 'A3HK65CAYLZI4E  rating: 5  votes:  10  helpful:   3', '2000-7-16  cutomer': 'ATRYT5ZKNLN9C  rating: 5  votes:   5  helpful:   3', '2000-7-19  cutomer': 'A3B8GLD1BINEG6  rating: 5  votes:   5  helpful:   4', '2000-7-22  cutomer': 'AMP1ZN0P42RFH  rating: 4  votes:   3  helpful:   0', '2000-7-23  cutomer': 'AU6YUO58UAIOP  rating: 4  votes:   6  helpful:   2', '2000-7-29  cutomer': 'A3AW47HEFYPEVW  rating: 5  votes:   3  helpful:   1', '2000-8-10  cutomer': 'AHJ9M0CNM96L9  rating: 5  votes:   2  helpful:   0', '2000-8-17  cutomer': 'A192V1D64K0MT9  rating: 5  votes:   0  helpful:   0', '2000-8-18  cutomer': 'A3HDMF9U8ZHNRK  rating: 5  votes:   4  helpful:   2', '2000-8-20  cutomer': 'A2G0GS6EC75TFX  rating: 5  votes:   2  helpful:   1', '2000-8-29  cutomer': 'AUT7SKT6111Z  rating: 5  votes:   3  helpful:   1', '2000-9-2  cutomer': 'A2YSOM1A805PQP  rating: 5  votes:   0  helpful:   0', '2000-9-3  cutomer': 'A3OMPSEVL59ZDK  rating: 3  votes:   2  helpful:   0', '2000-9-5  cutomer': 'A31OJ91XCP9241  rating: 5  votes:   1  helpful:   0', '2000-9-7  cutomer': 'A3LWJ6GTIXALT4  rating: 5  votes:   3  helpful:   1', '2000-9-11  cutomer': 'AOUTI3BPRK7Q9  rating: 4  votes:   2  helpful:   0', '2000-9-13  cutomer': 'A1RCOVTW4EX5NW  rating: 5  votes:   1  helpful:   0', '2000-9-17  cutomer': 'AQRUX1HDO7NI6  rating: 5  votes:   2  helpful:   1', '2000-9-19  cutomer': 'A1R6E5S8WLUXEX  rating: 4  votes:   8  helpful:   5', '2000-9-24  cutomer': 'AIOIJS6H5X8VK  rating: 5  votes:   1  helpful:   0', '2000-9-27  cutomer': 'A1ZE485FNY8L0K  rating: 5  votes:   1  helpful:   0', '2000-9-30  cutomer': 'AZTOQO39047KU  rating: 5  votes:   1  helpful:   0', '2000-10-2  cutomer': 'AU5SQBPSNOIM  rating: 5  votes:  14  helpful:   8', '2000-10-6  cutomer': 'A3BIGPDRJ10YW1  rating: 5  votes:   3  helpful:   1', '2000-10-10  cutomer': 'A2RFQF2JFLBNVX  rating: 5  votes:   1  helpful:   0', '2000-10-12  cutomer': 'A3FPHICMUKXRJC  rating: 5  votes:   1  helpful:   0', '2000-10-15  cutomer': 'A3Q8XBSQJG86CP  rating: 5  votes:   5  helpful:   3', '2000-10-16  cutomer': 'A331OF34UX4Y1K  rating: 4  votes:   1  helpful:   0', '2000-10-28  cutomer': 'A2E3VGCMBXEHIR  rating: 5  votes:   7  helpful:   6', '2000-11-5  cutomer': 'A2AU6X3ACRLY5Z  rating: 5  votes:   0  helpful:   0', '2000-11-9  cutomer': 'AUVX4758GOLUX  rating: 4  votes:  15  helpful:  14', '2000-11-18  cutomer': 'A38AWSHVI3PC0P  rating: 4  votes:   5  helpful:   4', '2000-11-21  cutomer': 'A3UF6Y57Q4RBAT  rating: 4  votes:   0  helpful:   0', '2000-12-1  cutomer': 'A3CP7F0QZ2ZWLP  rating: 5  votes:   3  helpful:   1', '2000-12-10  cutomer': 'AR7TPOP62JMV7  rating: 5  votes:   2  helpful:   1', '2000-12-16  cutomer': 'A2LDKYNDPKDE5O  rating: 5  votes:   1  helpful:   1', '2000-12-19  cutomer': 'A2J7NV8LLR237N  rating: 5  votes:  14  helpful:  10', '2000-12-23  cutomer': 'A3PF2NF7LX3CAB  rating: 5  votes:  17  helpful:  17', '2001-1-4  cutomer': 'A397EWIFTDEBQR  rating: 4  votes:   4  helpful:   1', '2001-1-13  cutomer': 'A3NS02FC6J32SO  rating: 4  votes:  11  helpful:   1', '2001-1-23  cutomer': 'AVWONFHGE6MS0  rating: 5  votes:   5  helpful:   4', '2001-2-11  cutomer': 'A1SA3850IWW1W7  rating: 5  votes:   3  helpful:   0', '2001-2-13  cutomer': 'A37LBX5QPR0031  rating: 5  votes:   2  helpful:   0', '2001-2-14  cutomer': 'A2U2PS9YNBWA71  rating: 5  votes:   2  helpful:   1', '2001-2-16  cutomer': 'AI8GES0A82068  rating: 5  votes:  11  helpful:  10', '2001-4-1  cutomer': 'A2YKAWC1TJ0YUS  rating: 5  votes:   3  helpful:   2', '2001-4-5  cutomer': 'A33TY0UEC0SYB3  rating: 5  votes:  20  helpful:  19', '2001-4-6  cutomer': 'A3UJ7OEJCPP6C4  rating: 5  votes:   3  helpful:   3', '2001-4-30  cutomer': 'A3742HQHG2O71G  rating: 5  votes:   2  helpful:   2', '2001-5-4  cutomer': 'A1R1J80CWWLRND  rating: 5  votes:   0  helpful:   0', '2001-5-8  cutomer': 'A27T5XR2IKP0ID  rating: 5  votes:   0  helpful:   0', '2001-5-10  cutomer': 'AI3XSE9866ZO8  rating: 5  votes:   2  helpful:   2', '2001-5-11  cutomer': 'A1VSI2QVFMO0XE  rating: 5  votes:   4  helpful:   1', '2001-5-13  cutomer': 'A33GSY0QFXLLTQ  rating: 4  votes:   6  helpful:   2', '2001-5-22  cutomer': 'A3B08DCVOC1BDI  rating: 5  votes:  23  helpful:  21', '2001-5-28  cutomer': 'A3VVPESCRWZB3H  rating: 3  votes:  14  helpful:   3', '2001-5-30  cutomer': 'A3LRNSI9QM1RMV  rating: 5  votes:   0  helpful:   0', '2001-6-3  cutomer': 'A3UN6WX5RRO2AG  rating: 5  votes:   0  helpful:   0', '2001-6-4  cutomer': 'A3RZZIH5YPUX3U  rating: 5  votes:   0  helpful:   0', '2001-6-8  cutomer': 'AK7V30287END6  rating: 3  votes:   2  helpful:   2', '2001-6-16  cutomer': 'ABOULD9A80VOG  rating: 4  votes:   0  helpful:   0', '2001-6-19  cutomer': 'AQZEJXD5MJPK  rating: 3  votes:   1  helpful:   0', '2001-6-21  cutomer': 'AS5HLZQ7HT916  rating: 4  votes:   1  helpful:   0', '2001-6-23  cutomer': 'A19PPFERQ3JFDS  rating: 4  votes:   3  helpful:   2', '2001-6-24  cutomer': 'A1L3EPGLK1SCSU  rating: 5  votes:   2  helpful:   0', '2001-6-27  cutomer': 'ADGATX6QB3MQW  rating: 5  votes:   2  helpful:   0', '2001-6-29  cutomer': 'A2LGPQT6F6C59  rating: 4  votes:   1  helpful:   0', '2001-6-30  cutomer': 'A2E6YNS30OC151  rating: 5  votes:   2  helpful:   0', '2001-7-3  cutomer': 'AU0N3J18IUGCH  rating: 5  votes:   5  helpful:   3', '2001-7-5  cutomer': 'A3SOO9LFKGF5ZS  rating: 4  votes:   0  helpful:   0', '2001-7-8  cutomer': 'A3A12LDP93CKP9  rating: 5  votes:   1  helpful:   0', '2001-7-10  cutomer': 'AVXQR6BR0RS5A  rating: 5  votes:   1  helpful:   0', '2001-7-11  cutomer': 'A37793TAL7Q9VE  rating: 5  votes:   4  helpful:   1', '2001-7-12  cutomer': 'A5BD4JDXJ2MTE  rating: 4  votes:   5  helpful:   0', '2001-7-24  cutomer': 'A26BTLGUNKX9AJ  rating: 5  votes:   2  helpful:   1', '2001-7-29  cutomer': 'A392TRB9MYPAG3  rating: 4  votes:   1  helpful:   1', '2001-7-30  cutomer': 'A20DADGRTWFVLU  rating: 5  votes:   3  helpful:   0', '2001-8-8  cutomer': 'AKT9F5L33GM0  rating: 5  votes:   4  helpful:   4', '2001-8-10  cutomer': 'AO3KR806OCM3N  rating: 5  votes:   3  helpful:   1', '2001-8-12  cutomer': 'AYNXL6MGGBT0X  rating: 4  votes:   2  helpful:   1', '2001-8-16  cutomer': 'AUG6MIB4LPN9Y  rating: 5  votes:   1  helpful:   0', '2001-8-19  cutomer': 'A1K7XBI9JFCTJD  rating: 3  votes:   2  helpful:   0', '2001-8-21  cutomer': 'AIXFI3S9581G9  rating: 5  votes:   2  helpful:   1', '2001-8-26  cutomer': 'A23RBD0A8ON99G  rating: 4  votes:   2  helpful:   2', '2001-9-4  cutomer': 'ALH7ISOM5L1YE  rating: 5  votes:   4  helpful:   2', '2001-9-7  cutomer': 'A3P37EBPUM8HKW  rating: 5  votes:   2  helpful:   1', '2001-9-16  cutomer': 'A3P062EHS66OCE  rating: 3  votes:   2  helpful:   0', '2001-9-20  cutomer': 'AKWVVKN9JO97U  rating: 5  votes:   1  helpful:   0', '2001-9-26  cutomer': 'A3QQLS6WRD58UZ  rating: 3  votes:   5  helpful:   3', '2001-9-29  cutomer': 'ACFD835MECTRC  rating: 5  votes:   1  helpful:   0', '2001-10-3  cutomer': 'A1HCNNX3C3LX1V  rating: 5  votes:   0  helpful:   0', '2001-10-7  cutomer': 'AZM09BO1FD418  rating: 3  votes:   1  helpful:   0', '2001-10-10  cutomer': 'ADNACZMEIDO6Q  rating: 5  votes:   3  helpful:   2', '2001-10-15  cutomer': 'A1XNLH310CKXY7  rating: 5  votes:   1  helpful:   0', '2001-10-20  cutomer': 'A3EU21VKIURPVV  rating: 5  votes:   0  helpful:   0', '2001-10-23  cutomer': 'A2ZBN7E0CC2K81  rating: 5  votes:   1  helpful:   1', '2001-10-28  cutomer': 'A2YBZ5S6ZYM598  rating: 5  votes:   1  helpful:   0', '2001-10-31  cutomer': 'A31TCQ3Q6GDKV3  rating: 5  votes:   0  helpful:   0', '2001-11-4  cutomer': 'A31TCQ3Q6GDKV3  rating: 5  votes:   0  helpful:   0', '2001-11-9  cutomer': 'A1NPBEXHBV0YGZ  rating: 5  votes:   2  helpful:   2', '2001-11-18  cutomer': 'A1241U6QCSX5YJ  rating: 5  votes:   5  helpful:   3', '2001-11-23  cutomer': 'A38T4CU377KPYW  rating: 5  votes:   1  helpful:   0', '2001-11-26  cutomer': 'A2IULZFYVEMTWV  rating: 5  votes:   1  helpful:   0', '2001-11-30  cutomer': 'AZO25F8TE2D6I  rating: 5  votes:   1  helpful:   1', '2001-12-5  cutomer': 'AU1XXY2S6FZQ2  rating: 5  votes:   1  helpful:   1', '2001-12-9  cutomer': 'AFEYZ5EPNWYWS  rating: 5  votes:   1  helpful:   1', '2001-12-12  cutomer': 'A22B64KU16HQPQ  rating: 5  votes:   0  helpful:   0', '2001-12-15  cutomer': 'AKH4BTY3E72VJ  rating: 5  votes:   1  helpful:   1', '2001-12-16  cutomer': 'A16KE6DDYA876H  rating: 5  votes:   1  helpful:   1', '2001-12-18  cutomer': 'A2YXO23GAKTO94  rating: 5  votes:   1  helpful:   1', '2001-12-21  cutomer': 'A2IYVO4NFYBVH2  rating: 4  votes:   2  helpful:   2', '2001-12-26  cutomer': 'AKA1HGUVJEZ98  rating: 5  votes:   1  helpful:   1', '2001-12-28  cutomer': 'A37SGB3BKTRB3I  rating: 4  votes:   2  helpful:   1', '2001-12-30  cutomer': 'A3W02HNGDU6GDP  rating: 4  votes:   1  helpful:   1', '2002-1-4  cutomer': 'A2GG4SX4OIBVXH  rating: 5  votes:   2  helpful:   2', '2002-1-7  cutomer': 'A1IOLWHE68P26V  rating: 5  votes:   1  helpful:   1', '2002-1-22  cutomer': 'AZ1UFPNARPZD2  rating: 5  votes:  29  helpful:  27', '2002-1-24  cutomer': 'A22HNCM7RXBOC6  rating: 5  votes:   2  helpful:   1', '2002-2-8  cutomer': 'A17PFA11TI9XKB  rating: 5  votes:   0  helpful:   0', '2002-2-11  cutomer': 'A18FFUVWD3S10D  rating: 5  votes:   0  helpful:   0', '2002-2-26  cutomer': 'A4OJDE2PB9H2W  rating: 5  votes:   8  helpful:   6', '2002-3-6  cutomer': 'AYMPVLWFKTAYE  rating: 5  votes:   0  helpful:   0', '2002-3-8  cutomer': 'A1D9YVE0JJMHFN  rating: 5  votes:   0  helpful:   0', '2002-3-13  cutomer': 'A4T01SHWRE0HG  rating: 5  votes:   0  helpful:   0', '2002-3-19  cutomer': 'A376JWQYEYLVES  rating: 5  votes:   0  helpful:   0', '2002-3-24  cutomer': 'A1RKPJPX60S533  rating: 4  votes:   7  helpful:   6', '2002-4-7  cutomer': 'ADDB0Y73L2CHU  rating: 3  votes:   1  helpful:   0', '2002-4-10  cutomer': 'ATAVIPEJ2EVZG  rating: 5  votes:   1  helpful:   0', '2002-4-18  cutomer': 'ADMZY0PPD2G9R  rating: 5  votes:   1  helpful:   0', '2002-5-4  cutomer': 'A1WFEDE3NQNE6A  rating: 5  votes:   1  helpful:   1', '2002-5-9  cutomer': 'A3075RVSKC27HU  rating: 5  votes:   4  helpful:   4', '2002-5-11  cutomer': 'A2ZMW51WFLSF69  rating: 5  votes:   2  helpful:   1', '2002-6-12  cutomer': 'A2QDIBEAVW5066  rating: 4  votes:   1  helpful:   0', '2002-6-13  cutomer': 'A36DO49WW0OIM6  rating: 2  votes:   3  helpful:   2', '2002-6-21  cutomer': 'A3KXKMIFM2VE8H  rating: 3  votes:   2  helpful:   2', '2002-6-28  cutomer': 'AJQ1S39GZBKUG  rating: 5  votes:   4  helpful:   4', '2002-7-5  cutomer': 'A21CP0XTTBJJ4W  rating: 4  votes:   0  helpful:   0', '2002-7-7  cutomer': 'AE0E6UII0VSZA  rating: 5  votes:   4  helpful:   3', '2002-7-15  cutomer': 'AA9RFXJCE3K5W  rating: 5  votes:   1  helpful:   0', '2002-7-20  cutomer': 'A80T9ZRXC5O0C  rating: 5  votes:   0  helpful:   0', '2002-7-23  cutomer': 'A1IGHUTKUNZXOF  rating: 2  votes:   2  helpful:   1', '2002-7-25  cutomer': 'A4VH04TA14CPE  rating: 1  votes:  35  helpful:  15', '2002-7-28  cutomer': 'AH6VAPIMZQMY2  rating: 4  votes:   2  helpful:   1', '2002-8-10  cutomer': 'AKXJ12HWRLGEQ  rating: 5  votes:   1  helpful:   1', '2002-8-22  cutomer': 'ADIVDQ1G8O2GP  rating: 5  votes:   0  helpful:   0', '2002-8-23  cutomer': 'A3DE6BKWAJRE30  rating: 5  votes:   1  helpful:   1', '2002-8-24  cutomer': 'A2H58K8UD6UX8F  rating: 2  votes:  10  helpful:   5', '2002-8-28  cutomer': 'AI37YX1U4KB1L  rating: 5  votes:   0  helpful:   0', '2002-8-30  cutomer': 'A1MJMYLRTZ76ZX  rating: 3  votes:   2  helpful:   0', '2002-9-2  cutomer': 'A3PWJLEND9O9B9  rating: 5  votes:   2  helpful:   2', '2002-9-4  cutomer': 'A3IBSVXL7JPBNG  rating: 5  votes:   0  helpful:   0', '2002-9-18  cutomer': 'A1P2F99IZE1XO  rating: 5  votes:   5  helpful:   5', '2002-9-29  cutomer': 'AXPVLVJU5FP36  rating: 5  votes:   3  helpful:   3', '2002-10-3  cutomer': 'A921X6SXHLUXV  rating: 5  votes:   0  helpful:   0', '2002-10-5  cutomer': 'A2ZLROGIL2V7GV  rating: 5  votes:  65  helpful:  56', '2002-10-7  cutomer': 'A4NTF1W4QD1CM  rating: 4  votes:   7  helpful:   0', '2002-10-8  cutomer': 'AW756GURWWIJX  rating: 5  votes:   4  helpful:   1', '2002-10-15  cutomer': 'AMI1NVLZ74LQ0  rating: 5  votes:   5  helpful:   3', '2002-10-23  cutomer': 'A1CAA94EOP0J2S  rating: 5  votes:   1  helpful:   1', '2002-10-28  cutomer': 'A2OG83SEU9HL6D  rating: 5  votes:   2  helpful:   1', '2002-11-2  cutomer': 'A1K0MZ12Y8VX2E  rating: 5  votes:   0  helpful:   0', '2002-11-18  cutomer': 'A1OZ6MZJ0YKOD2  rating: 5  votes:   1  helpful:   1', '2002-11-27  cutomer': 'A3M4L85R6KMMXU  rating: 5  votes:   0  helpful:   0', '2002-11-30  cutomer': 'A3N5XIM9R2OQH0  rating: 4  votes:   7  helpful:   7', '2002-12-1  cutomer': 'A8BIZG3SOG5HV  rating: 5  votes:   1  helpful:   1', '2002-12-3  cutomer': 'AC4RB47L04FXT  rating: 5  votes:   2  helpful:   0', '2002-12-4  cutomer': 'AQ3WNV7VB5ER0  rating: 5  votes:   5  helpful:   4', '2002-12-21  cutomer': 'A1N975YMXV3YGX  rating: 5  votes:   0  helpful:   0', '2003-1-4  cutomer': 'A3L3I0R4RRU7X1  rating: 4  votes:   0  helpful:   0', '2003-1-14  cutomer': 'A1R1CY51SM7LTW  rating: 5  votes:   0  helpful:   0', '2003-1-19  cutomer': 'A2XEZBZOSBZZBZ  rating: 5  votes:   2  helpful:   0', '2003-1-24  cutomer': 'A2A69NG7SMV8K1  rating: 5  votes:   2  helpful:   2', '2003-2-14  cutomer': 'A2ANQ3ZQIPKO4N  rating: 5  votes:   0  helpful:   0', '2003-2-24  cutomer': 'A34OTQMYWSI389  rating: 4  votes:   2  helpful:   0', '2003-2-25  cutomer': 'A6J0876U0N6G6  rating: 5  votes:   5  helpful:   4', '2003-3-2  cutomer': 'A2L76S8H90UNSY  rating: 5  votes:   2  helpful:   1', '2003-3-4  cutomer': 'A29UH663BZ88D9  rating: 4  votes:   0  helpful:   0', '2003-3-6  cutomer': 'AH3BOE8OG7O5E  rating: 4  votes:   0  helpful:   0', '2003-3-9  cutomer': 'A2QOSRIWSPVMDT  rating: 1  votes:  23  helpful:   4', '2003-3-17  cutomer': 'A339FFCC9RNYLR  rating: 5  votes:   7  helpful:   6', '2003-3-27  cutomer': 'A7OIPNY6FCPZG  rating: 5  votes:   1  helpful:   1', '2003-4-1  cutomer': 'AEKOG2CVW9SM8  rating: 4  votes:   1  helpful:   0', '2003-4-3  cutomer': 'APWKSH4XINI0Q  rating: 5  votes:   0  helpful:   0', '2003-4-14  cutomer': 'A2FWDQZU22A40B  rating: 5  votes:   5  helpful:   5', '2003-4-17  cutomer': 'A2ZC8PLPOKW48U  rating: 5  votes:   0  helpful:   0', '2003-4-22  cutomer': 'A1YJJILY0C4Z17  rating: 5  votes:   2  helpful:   1', '2003-4-29  cutomer': 'A2UJA8FHIUNUHA  rating: 1  votes:  28  helpful:   3', '2003-5-5  cutomer': 'AKWHRBBLAVDKY  rating: 1  votes:  19  helpful:   1', '2003-5-13  cutomer': 'A2SY0JRCIBKXBI  rating: 5  votes:   0  helpful:   0', '2003-5-14  cutomer': 'A96K1ZGW56S2I  rating: 4  votes:  39  helpful:  16', '2003-5-19  cutomer': 'AGCOCRW8A56U8  rating: 4  votes:   3  helpful:   2', '2003-5-21  cutomer': 'A1W3P2381U8EWH  rating: 5  votes:   0  helpful:   0', '2003-5-22  cutomer': 'A3T1AZ90ZY5L7E  rating: 5  votes:   1  helpful:   0', '2003-5-26  cutomer': 'AMXO25HMG6YGX  rating: 5  votes:   2  helpful:   1', '2003-5-28  cutomer': 'A1QPYKQL974GDY  rating: 4  votes:   0  helpful:   0', '2003-6-1  cutomer': 'A2S5C3K5CALLS8  rating: 3  votes:   1  helpful:   1', '2003-6-2  cutomer': 'A1YC6AHVLLD7UK  rating: 5  votes:   3  helpful:   0', '2003-6-4  cutomer': 'A37VGJE7SA03XH  rating: 5  votes:   3  helpful:   1', '2003-6-9  cutomer': 'A3QETRPO6EZXOB  rating: 5  votes:   2  helpful:   1', '2003-6-13  cutomer': 'A1EPHL01XEAHGZ  rating: 5  votes:   8  helpful:   5', '2003-6-17  cutomer': 'A3PNDHFUA8EG4O  rating: 4  votes:   2  helpful:   1', '2003-6-27  cutomer': 'A13CLRLO9ZB9IA  rating: 5  votes:  11  helpful:   8', '2003-7-6  cutomer': 'A3V933J9H1IX8X  rating: 5  votes:   1  helpful:   0', '2003-7-10  cutomer': 'A3EKEYN2ITK53M  rating: 5  votes:   6  helpful:   2', '2003-7-12  cutomer': 'A1RER2SB58LSCN  rating: 5  votes:   1  helpful:   0', '2003-7-24  cutomer': 'A266O7FIE4WGL2  rating: 4  votes:   2  helpful:   1', '2003-7-27  cutomer': 'A2RGJDKAGVETRM  rating: 5  votes:   2  helpful:   1', '2003-7-28  cutomer': 'A3L1RFRDUDMT9N  rating: 5  votes:   0  helpful:   0', '2003-8-11  cutomer': 'AG2WM6XVSYOWR  rating: 5  votes:   3  helpful:   1', '2003-9-5  cutomer': 'A30MCEWT1Y2FZM  rating: 2  votes:   4  helpful:   2', '2003-9-11  cutomer': 'A26OV8AGP55W37  rating: 5  votes:   2  helpful:   1', '2003-9-12  cutomer': 'A193AABQ821L9Z  rating: 4  votes:  12  helpful:  11', '2003-9-19  cutomer': 'A10EY28PK3XUYO  rating: 2  votes:   3  helpful:   2', '2003-9-24  cutomer': 'A38B7E7BAPYR1U  rating: 5  votes:   0  helpful:   0', '2003-10-8  cutomer': 'A2SIXHFGPSKT7F  rating: 5  votes:   2  helpful:   1', '2003-10-11  cutomer': 'A3TGNK32Q4JUOF  rating: 1  votes:  19  helpful:   4', '2003-10-18  cutomer': 'A3RC0XYMIVVOVW  rating: 5  votes:   2  helpful:   1', '2003-10-27  cutomer': 'A32KFO9ZRTEBW2  rating: 5  votes:   5  helpful:   0', '2003-11-10  cutomer': 'A1JEG9VLTPCAAM  rating: 4  votes:  22  helpful:  19', '2003-11-11  cutomer': 'AXU7KZP82F3TC  rating: 5  votes:   1  helpful:   0', '2003-11-14  cutomer': 'A2K39DCDHLJ02G  rating: 5  votes:   7  helpful:   6', '2003-11-30  cutomer': 'A23RQUQU7UBVI0  rating: 5  votes:   5  helpful:   1', '2003-12-17  cutomer': 'A24KZQB0LYL066  rating: 5  votes:   1  helpful:   0', '2003-12-29  cutomer': 'A9UG79JFWSWYN  rating: 5  votes:   5  helpful:   4', '2004-1-8  cutomer': 'A3SFWKOKO449QS  rating: 5  votes:   0  helpful:   0', '2004-1-18  cutomer': 'A1HRLZQNZGA8I8  rating: 4  votes:   7  helpful:   3', '2004-1-19  cutomer': 'A2CB94MIYZ3NZS  rating: 5  votes:   4  helpful:   1', '2004-1-20  cutomer': 'A17XSV86MQLG9H  rating: 5  votes:   0  helpful:   0', '2004-1-22  cutomer': 'AWS7LIIU1QFKP  rating: 5  votes:   3  helpful:   1', '2004-1-26  cutomer': 'A10CCA8IU2KIG5  rating: 5  votes:   3  helpful:   0', '2004-1-28  cutomer': 'A2T4CNKY393AVU  rating: 5  votes:   7  helpful:   5', '2004-2-6  cutomer': 'A1E1QRBGM5MR9Z  rating: 5  votes:   4  helpful:   0', '2004-2-17  cutomer': 'A2GAP7XWBZU8QI  rating: 5  votes:   2  helpful:   2', '2004-2-19  cutomer': 'AT26NQ7NJ659Y  rating: 5  votes:   1  helpful:   1', '2004-2-22  cutomer': 'A3EUWX5TBGAE67  rating: 5  votes:   5  helpful:   2', '2004-2-27  cutomer': 'ANVECLORUMMBF  rating: 4  votes:   1  helpful:   1', '2004-2-29  cutomer': 'A3LH9OTADOF1L1  rating: 5  votes:   1  helpful:   1', '2004-3-4  cutomer': 'ANVECLORUMMBF  rating: 5  votes:   0  helpful:   0', '2004-3-11  cutomer': 'AHC5JNRS4P9R9  rating: 3  votes:   2  helpful:   1', '2004-3-13  cutomer': 'A8ZVWTDYTTMU  rating: 5  votes:   0  helpful:   0', '2004-3-15  cutomer': 'A2TLTB634U56MY  rating: 5  votes:   1  helpful:   1', '2004-3-22  cutomer': 'AHB2HQH7UHIKZ  rating: 5  votes:   3  helpful:   2', '2004-4-14  cutomer': 'A34GEPQL5O9E5D  rating: 5  votes:   1  helpful:   1', '2004-4-15  cutomer': 'A2WORC0EHECFQB  rating: 4  votes:   0  helpful:   0', '2004-4-21  cutomer': 'AX9CJR1GB5IX2  rating: 5  votes:   7  helpful:   0', '2004-4-26  cutomer': 'A1ZOF747O5EB6R  rating: 5  votes:   4  helpful:   4', '2004-5-8  cutomer': 'AKE8VVUBXLD7A  rating: 5  votes:   1  helpful:   0', '2004-5-9  cutomer': 'A3UN6WX5RRO2AG  rating: 5  votes:   9  helpful:   0', '2004-5-15  cutomer': 'AHFAMZYVF36XT  rating: 3  votes:  15  helpful:   5', '2004-5-21  cutomer': 'A3LYP24Y0F7BZN  rating: 3  votes:   1  helpful:   1', '2004-5-22  cutomer': 'AKG5RONUMO2LS  rating: 5  votes:   1  helpful:   1', '2004-5-24  cutomer': 'A1LIZ6DQ9YJNH0  rating: 5  votes:   0  helpful:   0', '2004-5-25  cutomer': 'A180I5AM4H949C  rating: 5  votes:   0  helpful:   0', '2004-6-8  cutomer': 'A1YRV8ICHSL41F  rating: 5  votes:   2  helpful:   2', '2004-6-10  cutomer': 'ATNX84AGYIN39  rating: 3  votes:  10  helpful:   3', '2004-6-18  cutomer': 'A3QROCRBJENHZJ  rating: 5  votes:   6  helpful:   0', '2004-6-19  cutomer': 'A3PHF6OJ6QFZ4B  rating: 5  votes:   0  helpful:   0', '2004-6-24  cutomer': 'A2MGZ3OFZTBTX7  rating: 5  votes:   1  helpful:   1', '2004-6-27  cutomer': 'A3G2WEURSMUK26  rating: 5  votes:   3  helpful:   0', '2004-6-28  cutomer': 'A2QSN9JTY9CLDW  rating: 4  votes:   0  helpful:   0', '2004-6-30  cutomer': 'A2S195ZX3ZUGE4  rating: 5  votes:   2  helpful:   1', '2004-7-4  cutomer': 'A3AJVMVIZO2UO  rating: 5  votes:   1  helpful:   1', '2004-7-12  cutomer': 'A5BC6ELFVQ62V  rating: 5  votes:   0  helpful:   0', '2004-7-21  cutomer': 'A3JQZ4VTQQLIP  rating: 5  votes:   0  helpful:   0', '2004-7-23  cutomer': 'A31XMUS7H8N1H7  rating: 5  votes:   0  helpful:   0', '2004-7-25  cutomer': 'ARMVG0E6FXRJ  rating: 5  votes:   0  helpful:   0', '2004-8-4  cutomer': 'A16VAMM4G47PG4  rating: 5  votes:   0  helpful:   0', '2004-8-8  cutomer': 'A2HST3YTJMANXF  rating: 5  votes:   2  helpful:   0', '2004-8-21  cutomer': 'A3MBJ9TIYG91OL  rating: 4  votes:   1  helpful:   1', '2004-8-30  cutomer': 'A2Q8OHBWP47LB2  rating: 5  votes:   1  helpful:   1', '2004-9-14  cutomer': 'A3EF1NE4B32IP0  rating: 5  votes:   0  helpful:   0', '2004-9-22  cutomer': 'A19MR2GN5ZHY5Q  rating: 5  votes:   0  helpful:   0', '2004-9-23  cutomer': 'A2FP25FGNPRSSB  rating: 5  votes:   1  helpful:   1', '2004-9-28  cutomer': 'A1GKLPD7LJPRQH  rating: 5  votes:   1  helpful:   1', '2004-10-9  cutomer': 'A2QQUU8P959MDG  rating: 5  votes:   1  helpful:   0', '2004-10-14  cutomer': 'A3PFARDF32WYCX  rating: 4  votes:   3  helpful:   1', '2004-10-15  cutomer': 'A329BKRM2USZ8T  rating: 4  votes:   6  helpful:   6', '2004-10-18  cutomer': 'A5YW3I62E6DYP  rating: 5  votes:   1  helpful:   0', '2004-10-23  cutomer': 'A1SUPLJ6VGSESH  rating: 5  votes:   0  helpful:   0', '2004-10-24  cutomer': 'A1YB4HGIA67WK2  rating: 5  votes:   4  helpful:   0', '2004-10-28  cutomer': 'A1C0COJOLALDEJ  rating: 4  votes:   1  helpful:   1', '2004-11-1  cutomer': 'A3ISPLB0DC512H  rating: 5  votes:   1  helpful:   1', '2004-11-2  cutomer': 'A1STMDNINVVRED  rating: 4  votes:   3  helpful:   1', '2004-11-3  cutomer': 'AL6C1XUKLN80F  rating: 5  votes:   1  helpful:   1', '2004-11-11  cutomer': 'A1DQM6JCKG7VYF  rating: 4  votes:   1  helpful:   1', '2004-11-19  cutomer': 'A3AL2O5PRN122Q  rating: 5  votes:   0  helpful:   0', '2004-11-28  cutomer': 'ANP4OLTH15PV  rating: 5  votes:   0  helpful:   0', '2004-12-10  cutomer': 'A6YK7TEYVSSA3  rating: 5  votes:   0  helpful:   0', '2004-12-15  cutomer': 'A1LVZSB44JVZ44  rating: 3  votes:   2  helpful:   1', '2004-12-17  cutomer': 'A34OE6DVUTT44S  rating: 5  votes:   3  helpful:   2', '2004-12-23  cutomer': 'A3KZCAH876MZSW  rating: 5  votes:   3  helpful:   1', '2005-1-6  cutomer': 'A6GIDI4ITJ9KX  rating: 4  votes:  13  helpful:  12', '2005-1-8  cutomer': 'ATK4Q037EM13F  rating: 5  votes:   1  helpful:   1', '2005-1-9  cutomer': 'A34D06JL7LC6MU  rating: 4  votes:   1  helpful:   1', '2005-1-23  cutomer': 'A1UPBCUVFTDCEE  rating: 5  votes:   1  helpful:   1', '2005-2-2  cutomer': 'ATN1SSKTJD8Z8  rating: 5  votes:   1  helpful:   1', '2005-2-3  cutomer': 'A122F2BBWXR94V  rating: 5  votes:  10  helpful:  10', '2005-2-10  cutomer': 'A15XY6GGKD3B6D  rating: 5  votes:   2  helpful:   1', '2005-2-15  cutomer': 'A3UN6WX5RRO2AG  rating: 5  votes:   3  helpful:   0', '2005-2-16  cutomer': 'AXJAHYCH1048F  rating: 5  votes:  10  helpful:  10', '2005-2-20  cutomer': 'A1LVZOK9F7K4CN  rating: 4  votes:   3  helpful:   2', '2005-2-22  cutomer': 'A1PNM2V500F0HW  rating: 5  votes:   3  helpful:   1', '2005-3-12  cutomer': 'A3MH7HTSGWRCJ0  rating: 3  votes:  13  helpful:   2', '2005-3-22  cutomer': 'A294W2OMW5JTRA  rating: 5  votes:   3  helpful:   3', '2005-3-28  cutomer': 'AV9FGR1C13XO9  rating: 5  votes:   1  helpful:   1', '2005-3-31  cutomer': 'A2879ZDXJVG5ZB  rating: 5  votes:   2  helpful:   2', '2005-4-3  cutomer': 'A1NKCPWCIXEBYN  rating: 5  votes:   2  helpful:   1', '2005-4-4  cutomer': 'A38Y0T2MNEXCEL  rating: 5  votes:   8  helpful:   8', '2005-4-16  cutomer': 'A2JIN3T7I3WVID  rating: 5  votes:   0  helpful:   0', '2005-4-20  cutomer': 'A2831PYUASOO28  rating: 5  votes:   4  helpful:   4', '2005-4-26  cutomer': 'A380ZPSGNR3QJG  rating: 5  votes:   4  helpful:   2', '2005-5-7  cutomer': 'ANEP0QYMPBT7Q  rating: 4  votes:   5  helpful:   0', '2005-5-18  cutomer': 'A3R6R7L6JW9G8I  rating: 5  votes:   6  helpful:   6', '2005-5-22  cutomer': 'A3G3FHTIMUAKYJ  rating: 4  votes:   5  helpful:   0', '2005-5-26  cutomer': 'A1GGE78WX93OFO  rating: 5  votes:   1  helpful:   0', '2005-6-6  cutomer': 'A2OOZZDSOHG4UY  rating: 5  votes:   1  helpful:   0', '2005-6-10  cutomer': 'A156N59YON8GW9  rating: 5  votes:   8  helpful:   8', '2005-6-12  cutomer': 'A1D7SODMIK8T1Z  rating: 5  votes:   2  helpful:   2', '2005-6-20  cutomer': 'A1LMQHB3ZANNVN  rating: 5  votes:   1  helpful:   1', '2005-6-24  cutomer': 'A39P5RU5RAH494  rating: 5  votes:   1  helpful:   1'}\n"
     ]
    }
   ],
   "source": [
    "product_676_metadata = metadata.get('676')\n",
    "print(product_676_metadata)"
   ]
  },
  {
   "cell_type": "code",
   "execution_count": 52,
   "id": "04ec94bc",
   "metadata": {},
   "outputs": [
    {
     "name": "stdout",
     "output_type": "stream",
     "text": [
      "The Number of ids in the metadata = 548552\n"
     ]
    }
   ],
   "source": [
    "print(f\"The Number of ids in the metadata = {len(metadata)}\")"
   ]
  },
  {
   "cell_type": "markdown",
   "id": "e53e4ea9",
   "metadata": {},
   "source": [
    "#### Create a sample graph for representation"
   ]
  },
  {
   "cell_type": "code",
   "execution_count": 53,
   "id": "0f163ae8",
   "metadata": {},
   "outputs": [],
   "source": [
    "# Load the graph data from the file 'AmazonNodeGraph.pt'\n",
    "graph = torch.load('AmazonNodeGraph.pt')\n",
    "\n",
    "# Generate a mask where True indicates nodes to be preserved, and False indicates nodes to be discarded\n",
    "mask = torch.zeros(graph.num_nodes, dtype=torch.bool)\n",
    "mask[:100] = True\n",
    "\n",
    "# Create and store a smaller graph by selecting nodes based on the mask\n",
    "g = Data(x=graph.x[mask], edge_index=utils.subgraph(mask, graph.edge_index)[0])\n",
    "torch.save(g, 'sampledGraph.pt')"
   ]
  },
  {
   "cell_type": "code",
   "execution_count": 54,
   "id": "d737ee12",
   "metadata": {},
   "outputs": [
    {
     "name": "stderr",
     "output_type": "stream",
     "text": [
      "100%|██████████| 353/353 [00:00<00:00, 19577.01it/s]"
     ]
    },
    {
     "name": "stdout",
     "output_type": "stream",
     "text": [
      "sampledGraph.html\n"
     ]
    },
    {
     "name": "stderr",
     "output_type": "stream",
     "text": [
      "\n"
     ]
    }
   ],
   "source": [
    "# Load the graph\n",
    "g = torch.load('sampledGraph.pt')\n",
    "\n",
    "# Initialize the PyVis network\n",
    "net = Network(height=\"750px\", width=\"100%\", bgcolor=\"#0b0114\", font_color=\"#875cad\")\n",
    "\n",
    "# Iterate over edges and add nodes and edges to the PyVis network\n",
    "for src, dst in tqdm(g.edge_index.T):\n",
    "    src_id = str(src.item())\n",
    "    dst_id = str(dst.item())\n",
    "    \n",
    "    if src_id == '0' or dst_id == '0':\n",
    "        continue\n",
    "    \n",
    "    src_metadata = metadata.get(src_id, {})\n",
    "    dst_metadata = metadata.get(dst_id, {})\n",
    "    \n",
    "    src_title = f\"Title: {src_metadata.get('title', 'N/A')}\"\n",
    "    \n",
    "    dst_title = f\"Title: {dst_metadata.get('title', 'N/A')}\"\n",
    "    \n",
    "    net.add_node(src_id, label=src_title, title=src_title)\n",
    "    net.add_node(dst_id, label=dst_title, title=dst_title)\n",
    "    net.add_edge(src_id, dst_id, value=0.1)\n",
    "\n",
    "# Save the network visualization as an HTML file\n",
    "net.show(\"sampledGraph.html\", notebook=False)"
   ]
  },
  {
   "cell_type": "markdown",
   "id": "73dff3d0",
   "metadata": {},
   "source": [
    "## Generate customer data csv"
   ]
  },
  {
   "cell_type": "code",
   "execution_count": 55,
   "id": "45df3dd8",
   "metadata": {},
   "outputs": [
    {
     "name": "stderr",
     "output_type": "stream",
     "text": [
      "C:\\Users\\reshm\\AppData\\Local\\Temp\\ipykernel_34760\\1869319230.py:29: SettingWithCopyWarning: \n",
      "A value is trying to be set on a copy of a slice from a DataFrame.\n",
      "Try using .loc[row_indexer,col_indexer] = value instead\n",
      "\n",
      "See the caveats in the documentation: https://pandas.pydata.org/pandas-docs/stable/user_guide/indexing.html#returning-a-view-versus-a-copy\n",
      "  dataframe_F['cutomer_id']=dataframe_F['fulltxt'].map(lambda b:[a[10:] for a in re.findall('cutomer: \\\\w+',b)])\n"
     ]
    }
   ],
   "source": [
    "import re\n",
    "\n",
    "f = open('../amazon-meta.txt',mode='r',encoding='utf-8')\n",
    "fulltxt=f.readlines()\n",
    "f.close()\n",
    "s=pd.Series(fulltxt)[2:]\n",
    "s=s.reset_index(drop=True)\n",
    "indices=s[s=='\\n'].index\n",
    "\n",
    "dataframe=pd.DataFrame(columns=['Id','ASIN','cutomer_id'])\n",
    "\n",
    "txt=[]\n",
    "for i,indx in enumerate(indices):\n",
    "    if i<len(indices)-1:\n",
    "        b=s[(indices[i]+1):indices[i+1]].sum()\n",
    "        txt.append(b)\n",
    "\n",
    "\n",
    "s_txt=pd.Series(txt)\n",
    "dataframe=pd.DataFrame(s_txt)\n",
    "dataframe.columns=['fulltxt']\n",
    "\n",
    "dataframe['id']=dataframe['fulltxt'].map(lambda b:re.findall('Id:   \\\\d+',b)[0][6:])\n",
    "dataframe['ASIN']=dataframe['fulltxt'].map(lambda b:re.findall('ASIN: .+\\n',b)[0][6:-1])\n",
    "dataframe['DiscontinuedORNOT']=dataframe['fulltxt'].map(lambda b:'discontinued' in b)\n",
    "\n",
    "dataframe_F=dataframe[dataframe.DiscontinuedORNOT==False]\n",
    "dataframe_T=dataframe[dataframe.DiscontinuedORNOT==True]\n",
    "dataframe_F['cutomer_id']=dataframe_F['fulltxt'].map(lambda b:[a[10:] for a in re.findall('cutomer: \\\\w+',b)])\n",
    "dataframe_F.to_csv('amazon_customer_data.csv',index=False)"
   ]
  }
 ],
 "metadata": {
  "kernelspec": {
   "display_name": "Python 3 (ipykernel)",
   "language": "python",
   "name": "python3"
  },
  "language_info": {
   "codemirror_mode": {
    "name": "ipython",
    "version": 3
   },
   "file_extension": ".py",
   "mimetype": "text/x-python",
   "name": "python",
   "nbconvert_exporter": "python",
   "pygments_lexer": "ipython3",
   "version": "3.12.2"
  }
 },
 "nbformat": 4,
 "nbformat_minor": 5
}
